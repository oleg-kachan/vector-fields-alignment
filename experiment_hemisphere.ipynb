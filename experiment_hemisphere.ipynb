{
 "cells": [
  {
   "cell_type": "code",
   "execution_count": 1,
   "metadata": {
    "collapsed": false
   },
   "outputs": [],
   "source": [
    "import math\n",
    "import numpy as np\n",
    "\n",
    "import matplotlib.pyplot as plt\n",
    "import plotly.plotly as py\n",
    "import plotly.graph_objs as go\n",
    "from plotly import tools\n",
    "\n",
    "from utils import translate, pairwise_kernels\n",
    "\n",
    "from sklearn.neighbors import NearestNeighbors\n",
    "from sklearn.neighbors import KNeighborsRegressor\n",
    "from sklearn.metrics.pairwise import pairwise_distances"
   ]
  },
  {
   "cell_type": "code",
   "execution_count": 122,
   "metadata": {
    "collapsed": true
   },
   "outputs": [],
   "source": [
    "# constants\n",
    "N_POINTS_ARR = [100, 200, 400, 800]\n",
    "N_NEIGHBORS = 15\n",
    "N_RUNS = 5\n",
    "\n",
    "EPS_MEAN = 0\n",
    "EPS_STD_DEV = 0.05"
   ]
  },
  {
   "cell_type": "code",
   "execution_count": 123,
   "metadata": {
    "collapsed": false
   },
   "outputs": [],
   "source": [
    "# creating true data\n",
    "x = np.linspace(-0.7, 0.7, 25)\n",
    "y = np.linspace(-0.7, 0.7, 25)\n",
    "\n",
    "xx, yy = np.meshgrid(y, x)\n",
    "##zz = 0.3 * np.sin(2 * xx) + 0.1 * np.cos(3.5 * xx) + 0.25 * np.exp(-yy) - 0.5\n",
    "\n",
    "zz = np.sqrt(1.0 - xx**2 - yy**2)"
   ]
  },
  {
   "cell_type": "code",
   "execution_count": 124,
   "metadata": {
    "collapsed": false
   },
   "outputs": [],
   "source": [
    "# creating empirical data\n",
    "x_arr = [[[] for i in range(N_RUNS)] for i in range(len(N_POINTS_ARR))]\n",
    "y_arr = [[[] for i in range(N_RUNS)] for i in range(len(N_POINTS_ARR))]\n",
    "z_arr = [[[] for i in range(N_RUNS)] for i in range(len(N_POINTS_ARR))]\n",
    "\n",
    "for i, N_POINTS in enumerate(N_POINTS_ARR):\n",
    "    for j in range(N_RUNS):\n",
    "        \n",
    "        x = np.random.uniform(-0.7, 0.7, N_POINTS)\n",
    "        y = np.random.uniform(-0.7, 0.7, N_POINTS)\n",
    "        #z = 0.3 * np.sin(2 * y) + 0.1 * np.cos(3.5 * y) + 0.25 * np.exp(-x) - 0.5\n",
    "        z = np.sqrt(1 - x ** 2 - y ** 2)\n",
    "\n",
    "        x_arr[i][j] = x\n",
    "        y_arr[i][j] = y\n",
    "        z_arr[i][j] = z"
   ]
  },
  {
   "cell_type": "code",
   "execution_count": 125,
   "metadata": {
    "collapsed": false
   },
   "outputs": [],
   "source": [
    "# nonparametic regression\n",
    "T_x = np.linspace(-1, 1, 100)\n",
    "T_y = np.linspace(-1, 1, 100)\n",
    "\n",
    "T_xx, T_yy = np.meshgrid(T_x, T_y)\n",
    "\n",
    "T = np.dstack((T_xx, T_yy)).reshape(-1, 2)\n",
    "\n",
    "X_arr = [[[] for i in range(N_RUNS)] for i in range(len(N_POINTS_ARR))]\n",
    "z_hat_arr = [[[] for i in range(N_RUNS)] for i in range(len(N_POINTS_ARR))]\n",
    "\n",
    "for i, N_POINTS in enumerate(N_POINTS_ARR):\n",
    "    for j in range(N_RUNS):\n",
    "\n",
    "        X = np.dstack((y_arr[i][j], x_arr[i][j])).reshape(N_POINTS, -1)\n",
    "\n",
    "        nonparametric_regression = KNeighborsRegressor(n_neighbors=N_NEIGHBORS)\n",
    "        z_hat = nonparametric_regression.fit(X, z_arr[i][j]).predict(T)\n",
    "\n",
    "        X_arr[i][j] = X\n",
    "        z_hat_arr[i][j] = z_hat"
   ]
  },
  {
   "cell_type": "code",
   "execution_count": 77,
   "metadata": {
    "collapsed": true
   },
   "outputs": [],
   "source": [
    "# plot styling\n",
    "line_marker_blue = dict(color='#0066FF', width=1)\n",
    "line_marker_green = dict(color='#00CC66', width=1)\n",
    "line_marker_red  = dict(color='#CC3300', width=2)\n",
    "line_marker_grey  = dict(color='#333333', width=2)\n",
    "marker = dict(size=2, color='#0066FF')"
   ]
  },
  {
   "cell_type": "code",
   "execution_count": 100,
   "metadata": {
    "collapsed": false
   },
   "outputs": [
    {
     "data": {
      "text/html": [
       "<iframe id=\"igraph\" scrolling=\"no\" style=\"border:none;\" seamless=\"seamless\" src=\"https://plot.ly/~sengiley88/600.embed\" height=\"525px\" width=\"100%\"></iframe>"
      ],
      "text/plain": [
       "<plotly.tools.PlotlyDisplay object>"
      ]
     },
     "execution_count": 100,
     "metadata": {},
     "output_type": "execute_result"
    }
   ],
   "source": [
    "# empirical data, true and regression plot\n",
    "lines = []\n",
    "\n",
    "lines.append(go.Scatter3d(x=y_arr[0][0], y=x_arr[0][0], z=z_arr[0][0], marker=marker, mode=\"markers\"))\n",
    "\n",
    "for i, j, k in zip(xx, yy, zz):\n",
    "    lines.append(go.Scatter3d(x=i, y=j, z=k, line=line_marker_blue, mode=\"lines\", opacity=0.5, hoverinfo=\"skip\"))\n",
    "\n",
    "scene = dict(\n",
    "    camera = dict(\n",
    "        up=dict(x=0, y=0, z=1),\n",
    "        center=dict(x=0, y=0, z=-0.1),\n",
    "        eye=dict(x=0.65, y=0.8, z=0.9)\n",
    "    )\n",
    ")\n",
    "\n",
    "layout = go.Layout(\n",
    "    #title='Data points sampled from hemisphere',\n",
    "    showlegend=False,\n",
    "    scene=scene\n",
    ")\n",
    "\n",
    "fig = go.Figure(data=lines, layout=layout, )\n",
    "py.iplot(fig)"
   ]
  },
  {
   "cell_type": "code",
   "execution_count": 126,
   "metadata": {
    "collapsed": false
   },
   "outputs": [],
   "source": [
    "# extracting neighborhoods\n",
    "neigborhoods_arr = [[[] for i in range(N_RUNS)] for i in range(len(N_POINTS_ARR))]\n",
    "neigborhoods_ids_arr = [[[] for i in range(N_RUNS)] for i in range(len(N_POINTS_ARR))]\n",
    "points_arr = [[[] for i in range(N_RUNS)] for i in range(len(N_POINTS_ARR))]\n",
    "\n",
    "for i, N_POINTS in enumerate(N_POINTS_ARR):\n",
    "    for j in range(N_RUNS):\n",
    "        points = np.hstack((X_arr[i][j], z_arr[i][j].reshape(N_POINTS, -1)))\n",
    "        nbrs = NearestNeighbors(n_neighbors=N_NEIGHBORS).fit(points)\n",
    "        distances, indices = nbrs.kneighbors(points)\n",
    "        neigborhoods = points[indices]\n",
    "        neigborhoods_ids = indices\n",
    "        #neigborhoods[0], neigborhoods_ids[0],\n",
    "        #neigborhoods.shape\n",
    "\n",
    "        points_arr[i][j] = points\n",
    "        neigborhoods_arr[i][j] = neigborhoods\n",
    "        neigborhoods_ids_arr[i][j] = neigborhoods_ids"
   ]
  },
  {
   "cell_type": "code",
   "execution_count": 127,
   "metadata": {
    "collapsed": false
   },
   "outputs": [
    {
     "data": {
      "text/plain": [
       "(100, 15, 3)"
      ]
     },
     "execution_count": 127,
     "metadata": {},
     "output_type": "execute_result"
    }
   ],
   "source": [
    "neigborhoods_arr[0][0].shape"
   ]
  },
  {
   "cell_type": "code",
   "execution_count": 128,
   "metadata": {
    "collapsed": false
   },
   "outputs": [],
   "source": [
    "# create Q(X_i) matrix\n",
    "D = 3 # dimensionality of ambient space\n",
    "d = 2 # dimensionality of embedding space\n",
    "\n",
    "Q_X_arr = [[[] for i in range(N_RUNS)] for i in range(len(N_POINTS_ARR))]\n",
    "\n",
    "for i, N_POINTS in enumerate(N_POINTS_ARR):\n",
    "    for j in range(N_RUNS):\n",
    "        Q_X = np.zeros((N_POINTS, D, d)) # Q(X_i), N_POINTS x d x D\n",
    "        Q_X_arr[i][j] = Q_X"
   ]
  },
  {
   "cell_type": "code",
   "execution_count": 129,
   "metadata": {
    "collapsed": false
   },
   "outputs": [
    {
     "data": {
      "text/plain": [
       "(100, 3, 2)"
      ]
     },
     "execution_count": 129,
     "metadata": {},
     "output_type": "execute_result"
    }
   ],
   "source": [
    "Q_X_arr[0][0].shape"
   ]
  },
  {
   "cell_type": "code",
   "execution_count": 130,
   "metadata": {
    "collapsed": false,
    "scrolled": false
   },
   "outputs": [],
   "source": [
    "# estimating tangent spaces\n",
    "for i, N_POINTS in enumerate(N_POINTS_ARR):\n",
    "    for j in range(N_RUNS):\n",
    "        for k, _ in enumerate(neigborhoods_arr[i][j]):\n",
    "\n",
    "            neigborhood_local = translate(neigborhoods_arr[i][j][k], neigborhoods_arr[i][j][k][0])\n",
    "            U, S, V = np.linalg.svd(neigborhood_local.T.dot(neigborhood_local))\n",
    "\n",
    "            Q_X_arr[i][j][k] = V[:d].T # take first d eigenvectors"
   ]
  },
  {
   "cell_type": "code",
   "execution_count": 131,
   "metadata": {
    "collapsed": false
   },
   "outputs": [
    {
     "data": {
      "text/plain": [
       "array([[-0.14057382, -0.8904425 ],\n",
       "       [ 0.97791905, -0.05659307],\n",
       "       [-0.15463937,  0.45156326]])"
      ]
     },
     "execution_count": 131,
     "metadata": {},
     "output_type": "execute_result"
    }
   ],
   "source": [
    "Q_X_arr[0][0][0]"
   ]
  },
  {
   "cell_type": "code",
   "execution_count": 121,
   "metadata": {
    "collapsed": false
   },
   "outputs": [
    {
     "data": {
      "text/html": [
       "<iframe id=\"igraph\" scrolling=\"no\" style=\"border:none;\" seamless=\"seamless\" src=\"https://plot.ly/~sengiley88/608.embed\" height=\"525px\" width=\"100%\"></iframe>"
      ],
      "text/plain": [
       "<plotly.tools.PlotlyDisplay object>"
      ]
     },
     "execution_count": 121,
     "metadata": {},
     "output_type": "execute_result"
    }
   ],
   "source": [
    "# tangent vectors plot\n",
    "tangent_plot = []\n",
    "\n",
    "for i, _ in enumerate(neigborhoods_arr[0][0]):\n",
    "    if (i > 500): break # remove!\n",
    "    \n",
    "    for e, eigenvector in enumerate(Q_X_arr[0][0][i].T):\n",
    "        \n",
    "        tangent_vector = [[points_arr[0][0][i][0], points_arr[0][0][i][0] + eigenvector[0]],\n",
    "                          [points_arr[0][0][i][1], points_arr[0][0][i][1] + eigenvector[1]],\n",
    "                          [points_arr[0][0][i][2], points_arr[0][0][i][2] + eigenvector[2]]]\n",
    "        \n",
    "        if (e==0):\n",
    "            tangent_plot.append(go.Scatter3d(x=tangent_vector[0], y=tangent_vector[1], z=tangent_vector[2],\n",
    "                                            line=line_marker_red, mode=\"lines\", opacity=0.5, hoverinfo=\"skip\"))\n",
    "            \n",
    "        if (e==1):\n",
    "            tangent_plot.append(go.Scatter3d(x=tangent_vector[0], y=tangent_vector[1], z=tangent_vector[2],\n",
    "                                            line=line_marker_grey, mode=\"lines\", opacity=0.5, hoverinfo=\"skip\"))\n",
    "\n",
    "        #print(tangent_vector)\n",
    "        #print(\"\\r\")\n",
    "            \n",
    "lines.append(go.Scatter3d(x=y_arr[0][0], y=x_arr[0][0], z=z_arr[0][0], marker=marker, mode=\"markers\"))\n",
    "\n",
    "for i, j, k in zip(xx, yy, zz):\n",
    "    tangent_plot.append(go.Scatter3d(x=i, y=j, z=k, line=line_marker_blue, mode=\"lines\", opacity=0.5, hoverinfo=\"skip\"))\n",
    "\n",
    "scene = dict(\n",
    "    camera = dict(\n",
    "        up=dict(x=0, y=0, z=1),\n",
    "        center=dict(x=0, y=0, z=-0.1),\n",
    "        eye=dict(x=0.65, y=0.8, z=0.9)\n",
    "    )\n",
    ")\n",
    "            \n",
    "layout = go.Layout(\n",
    "    title='PCA-estimated tangent spaces',\n",
    "    showlegend=False,\n",
    "    scene=scene\n",
    ")\n",
    "fig = go.Figure(data=tangent_plot, layout=layout)\n",
    "py.iplot(fig)"
   ]
  },
  {
   "cell_type": "code",
   "execution_count": 112,
   "metadata": {
    "collapsed": true
   },
   "outputs": [],
   "source": [
    "H_X_arr = np.copy(Q_X_arr)"
   ]
  },
  {
   "cell_type": "markdown",
   "metadata": {},
   "source": [
    "3 steps:\n",
    "\n",
    "1. Nadaraya-Watson nonparametric regression\n",
    "2. Projection to original tangent plane\n",
    "3. Changing vector length\n",
    "\n",
    "$$H_i^{(k+1)} = C \\cdot Q_iQ_i^T \\cdot \\frac{\\sum_j K(X_i, X_j) \\cdot H_j^{(k)}}{\\sum_j K(X_i, X_j)}$$\n",
    "\n",
    "$$H_i^{(k+1)} = P(X_i) \\cdot \\frac{\\sum_j K(X_i, X_j) \\cdot H_j^{(k)}}{\\sum_j K(X_i, X_j)}$$"
   ]
  },
  {
   "cell_type": "markdown",
   "metadata": {},
   "source": [
    "$$\\sum_{i,j} K(X_i, X_j) \\cdot \\| H(X_i) - H(X_j) \\|_F^2 \\rightarrow \\min_{H_i}$$"
   ]
  },
  {
   "cell_type": "code",
   "execution_count": 132,
   "metadata": {
    "collapsed": false
   },
   "outputs": [
    {
     "name": "stdout",
     "output_type": "stream",
     "text": [
      "N=0, M=0\n",
      "N=0, M=1\n",
      "N=0, M=2\n",
      "N=0, M=3\n",
      "N=0, M=4\n",
      "N=1, M=0\n",
      "N=1, M=1\n",
      "N=1, M=2\n",
      "N=1, M=3\n",
      "N=1, M=4\n",
      "N=2, M=0\n",
      "N=2, M=1\n",
      "N=2, M=2\n",
      "N=2, M=3\n",
      "N=2, M=4\n",
      "N=3, M=0\n",
      "N=3, M=1\n",
      "N=3, M=2\n",
      "N=3, M=3\n",
      "N=3, M=4\n"
     ]
    }
   ],
   "source": [
    "# iterative update\n",
    "n_iter = 100\n",
    "\n",
    "deltas_arr = [[[] for i in range(N_RUNS)] for i in range(len(N_POINTS_ARR))]\n",
    "\n",
    "# initialize I_D, H_X\n",
    "I_D = np.eye(D)\n",
    "I_d = np.eye(d)\n",
    "I_d_diag = np.vstack([I_d, np.array([0., 0.])])\n",
    "\n",
    "#print(H_X_arr[0][0][0], np.linalg.norm(H_X_arr[0][0][0]))\n",
    "\n",
    "H_X_arr = np.copy(Q_X_arr)\n",
    "H_X_arr_next = [[[] for i in range(N_RUNS)] for i in range(len(N_POINTS_ARR))]\n",
    "\n",
    "for n, N_POINTS in enumerate(N_POINTS_ARR):\n",
    "    for m in range(N_RUNS):\n",
    "        \n",
    "        print(\"N={}, M={}\".format(n, m))\n",
    "        \n",
    "        for k in range(n_iter): # run k iterations\n",
    "\n",
    "            H_X_arr_next[n][m] = np.zeros((N_POINTS, D, d))\n",
    "\n",
    "            for i in range(N_POINTS): # update N_POINTS\n",
    "\n",
    "                neighborhood = neigborhoods_arr[n][m][i]\n",
    "                j = neigborhoods_ids_arr[n][m][i][1:]\n",
    "\n",
    "                # kernel\n",
    "                K = pairwise_kernels(neighborhood)[0][1:]\n",
    "\n",
    "                # projection to original tangent plane\n",
    "                P_i = Q_X_arr[n][m][i].dot(Q_X_arr[n][m][i].T)\n",
    "\n",
    "                H_i = (K[:,None,None] * H_X_arr[n][m][j]).sum(axis=0) / K.sum()\n",
    "                H_P_ij = P_i.dot(H_i)\n",
    "\n",
    "                U, S, V = np.linalg.svd(H_P_ij)\n",
    "                \n",
    "                #print(U.dot(I_d_diag).dot(V))\n",
    "\n",
    "                H_X_arr_next[n][m][i] = U.dot(I_d_diag).dot(V)\n",
    "\n",
    "            H_X_arr[n][m] = H_X_arr_next[n][m]\n",
    "\n",
    "            # functional\n",
    "            delta = 0\n",
    "            for i in range(N_POINTS):\n",
    "                #if (i > 1): break\n",
    "\n",
    "                neighborhood = neigborhoods_arr[n][m][i]\n",
    "                j = neigborhoods_ids_arr[n][m][i][1:]\n",
    "\n",
    "                # kernel\n",
    "                K = pairwise_kernels(neighborhood)[0][1:]\n",
    "\n",
    "                H_D = H_X_arr[n][m][i] - H_X_arr[n][m][j]\n",
    "\n",
    "                delta += (K * np.array(map(np.linalg.norm, H_D))).sum()\n",
    "\n",
    "            #deltas.append(delta)\n",
    "            \n",
    "            deltas_arr[n][m].append(delta)"
   ]
  },
  {
   "cell_type": "code",
   "execution_count": 114,
   "metadata": {
    "collapsed": false,
    "scrolled": false
   },
   "outputs": [],
   "source": [
    "#deltas_arr"
   ]
  },
  {
   "cell_type": "code",
   "execution_count": 136,
   "metadata": {
    "collapsed": false
   },
   "outputs": [
    {
     "data": {
      "image/png": "[encoded data removed]",
      "text/plain": [
       "<matplotlib.figure.Figure at 0x119ce3750>"
      ]
     },
     "metadata": {},
     "output_type": "display_data"
    }
   ],
   "source": [
    "captions = []\n",
    "plt.figure(figsize=(8, 6))\n",
    "\n",
    "for i, N_POINTS in enumerate(N_POINTS_ARR):\n",
    "    deltas_np_arr = np.array(deltas_arr[i])\n",
    "    mean = list(deltas_np_arr.mean(axis=0))\n",
    "    std = list(deltas_np_arr.std(axis=0))\n",
    "    x = range(len(std))\n",
    "    #mean, std\n",
    "    \n",
    "    cap = plt.errorbar(x, mean, yerr=std, label=(\"n=\" + str(N_POINTS)))\n",
    "    captions.append(cap)\n",
    "\n",
    "#plt.errorbar(x, mean, yerr=std)\n",
    "#plt.xscale('log')\n",
    "#plt.yscale('log')\n",
    "\n",
    "# visualize transitions\n",
    "plt.legend(handles=captions)\n",
    "plt.title('Delta', fontdict={'size': 12 })\n",
    "plt.ylabel('Cost $\\pm$ SD')\n",
    "plt.xlabel('Iterations')\n",
    "plt.xscale('log')\n",
    "plt.yscale('log')\n",
    "plt.ylim([100, 2500])\n",
    "plt.grid()\n",
    "plt.show()"
   ]
  },
  {
   "cell_type": "code",
   "execution_count": 115,
   "metadata": {
    "collapsed": false
   },
   "outputs": [
    {
     "data": {
      "text/plain": [
       "([865.8283201467757,\n",
       "  553.11112775055312,\n",
       "  463.96163418686268,\n",
       "  424.58437485654161,\n",
       "  401.49528689193062,\n",
       "  387.36070638195804,\n",
       "  378.21629236568344,\n",
       "  372.07518747736395,\n",
       "  367.77661344445966,\n",
       "  364.63627754411272,\n",
       "  362.2405081585012,\n",
       "  360.33671134845309,\n",
       "  358.76877318348818,\n",
       "  357.43898532473975,\n",
       "  356.28517649273107,\n",
       "  355.26694998858392,\n",
       "  354.35734529638461,\n",
       "  353.53776926081662,\n",
       "  352.79490226363782,\n",
       "  352.11880265950759,\n",
       "  351.50173953064598,\n",
       "  350.93746916084888,\n",
       "  350.42078245277258,\n",
       "  349.94721828963458,\n",
       "  349.51287892760593,\n",
       "  349.11430844684122,\n",
       "  348.74841044436999,\n",
       "  348.41239037467938,\n",
       "  348.10371356550468,\n",
       "  347.82007337002375,\n",
       "  347.55936601875544,\n",
       "  347.3196700246599,\n",
       "  347.09922878914472,\n",
       "  346.89643554711608,\n",
       "  346.70982009323603,\n",
       "  346.53803692080413,\n",
       "  346.37985452316525,\n",
       "  346.23414568223723,\n",
       "  346.09987861626547,\n",
       "  345.97610888954108,\n",
       "  345.86197200690424,\n",
       "  345.75667662933859,\n",
       "  345.65949835630795,\n",
       "  345.56977402722077,\n",
       "  345.48689649945675,\n",
       "  345.41030986440046,\n",
       "  345.33950506621068,\n",
       "  345.27401589088032,\n",
       "  345.2134152956362,\n",
       "  345.1573120510015,\n",
       "  345.10534766988872,\n",
       "  345.05719360004986,\n",
       "  345.01254865797659,\n",
       "  344.97113668402983,\n",
       "  344.93270440015306,\n",
       "  344.89701945297236,\n",
       "  344.86386862647356,\n",
       "  344.83305620970975,\n",
       "  344.80440250618608,\n",
       "  344.77774247266348,\n",
       "  344.75292447615703,\n",
       "  344.72980915883443,\n",
       "  344.70826840140069,\n",
       "  344.68818437636327,\n",
       "  344.6694486832954,\n",
       "  344.65196155892352,\n",
       "  344.63563115545509,\n",
       "  344.62037288116818,\n",
       "  344.6061087977892,\n",
       "  344.5927670696708,\n",
       "  344.58028146022298,\n",
       "  344.56859087145244,\n",
       "  344.55763892282738,\n",
       "  344.54737356602777,\n",
       "  344.53774673243407,\n",
       "  344.5287140105018,\n",
       "  344.52023435040769,\n",
       "  344.51226979359689,\n",
       "  344.50478522506637,\n",
       "  344.49774814640483,\n",
       "  344.49112846779855,\n",
       "  344.48489831736589,\n",
       "  344.47903186631657,\n",
       "  344.47350516858461,\n",
       "  344.46829601368825,\n",
       "  344.46338379168492,\n",
       "  344.45874936919313,\n",
       "  344.45437497552854,\n",
       "  344.450244098111,\n",
       "  344.44634138634405,\n",
       "  344.44265256325701,\n",
       "  344.43916434426035,\n",
       "  344.43586436240867,\n",
       "  344.43274109963335,\n",
       "  344.42978382344631,\n",
       "  344.42698252865796,\n",
       "  344.42432788369217,\n",
       "  344.42181118112688,\n",
       "  344.41942429210002,\n",
       "  344.41715962427344],\n",
       " [0.0,\n",
       "  0.0,\n",
       "  0.0,\n",
       "  0.0,\n",
       "  0.0,\n",
       "  0.0,\n",
       "  0.0,\n",
       "  0.0,\n",
       "  0.0,\n",
       "  0.0,\n",
       "  0.0,\n",
       "  0.0,\n",
       "  0.0,\n",
       "  0.0,\n",
       "  0.0,\n",
       "  0.0,\n",
       "  0.0,\n",
       "  0.0,\n",
       "  0.0,\n",
       "  0.0,\n",
       "  0.0,\n",
       "  0.0,\n",
       "  0.0,\n",
       "  0.0,\n",
       "  0.0,\n",
       "  0.0,\n",
       "  0.0,\n",
       "  0.0,\n",
       "  0.0,\n",
       "  0.0,\n",
       "  0.0,\n",
       "  0.0,\n",
       "  0.0,\n",
       "  0.0,\n",
       "  0.0,\n",
       "  0.0,\n",
       "  0.0,\n",
       "  0.0,\n",
       "  0.0,\n",
       "  0.0,\n",
       "  0.0,\n",
       "  0.0,\n",
       "  0.0,\n",
       "  0.0,\n",
       "  0.0,\n",
       "  0.0,\n",
       "  0.0,\n",
       "  0.0,\n",
       "  0.0,\n",
       "  0.0,\n",
       "  0.0,\n",
       "  0.0,\n",
       "  0.0,\n",
       "  0.0,\n",
       "  0.0,\n",
       "  0.0,\n",
       "  0.0,\n",
       "  0.0,\n",
       "  0.0,\n",
       "  0.0,\n",
       "  0.0,\n",
       "  0.0,\n",
       "  0.0,\n",
       "  0.0,\n",
       "  0.0,\n",
       "  0.0,\n",
       "  0.0,\n",
       "  0.0,\n",
       "  0.0,\n",
       "  0.0,\n",
       "  0.0,\n",
       "  0.0,\n",
       "  0.0,\n",
       "  0.0,\n",
       "  0.0,\n",
       "  0.0,\n",
       "  0.0,\n",
       "  0.0,\n",
       "  0.0,\n",
       "  0.0,\n",
       "  0.0,\n",
       "  0.0,\n",
       "  0.0,\n",
       "  0.0,\n",
       "  0.0,\n",
       "  0.0,\n",
       "  0.0,\n",
       "  0.0,\n",
       "  0.0,\n",
       "  0.0,\n",
       "  0.0,\n",
       "  0.0,\n",
       "  0.0,\n",
       "  0.0,\n",
       "  0.0,\n",
       "  0.0,\n",
       "  0.0,\n",
       "  0.0,\n",
       "  0.0,\n",
       "  0.0])"
      ]
     },
     "execution_count": 115,
     "metadata": {},
     "output_type": "execute_result"
    }
   ],
   "source": [
    "deltas_np_arr = np.array(deltas_arr[0])\n",
    "mean = list(deltas_np_arr.mean(axis=0))\n",
    "std = list(deltas_np_arr.std(axis=0))\n",
    "x = range(len(std))\n",
    "mean, std"
   ]
  },
  {
   "cell_type": "code",
   "execution_count": 116,
   "metadata": {
    "collapsed": false
   },
   "outputs": [
    {
     "data": {
      "text/plain": [
       "([200], [344.41715962427344])"
      ]
     },
     "execution_count": 116,
     "metadata": {},
     "output_type": "execute_result"
    }
   ],
   "source": [
    "deltas_np_arr = np.array(deltas_arr)\n",
    "y = list(deltas_np_arr[:,:,-1].flatten())\n",
    "x = N_POINTS_ARR\n",
    "x, y"
   ]
  },
  {
   "cell_type": "code",
   "execution_count": 302,
   "metadata": {
    "collapsed": false
   },
   "outputs": [
    {
     "data": {
      "image/png": "[encoded data removed]",
      "text/plain": [
       "<matplotlib.figure.Figure at 0x1197b89d0>"
      ]
     },
     "metadata": {},
     "output_type": "display_data"
    }
   ],
   "source": [
    "plt.plot(x, y)\n",
    "plt.xscale('log')\n",
    "plt.yscale('log')\n",
    "plt.show()"
   ]
  },
  {
   "cell_type": "code",
   "execution_count": 118,
   "metadata": {
    "collapsed": false
   },
   "outputs": [],
   "source": [
    "#plt.errorbar(x, mean, yerr=std)\n",
    "#plt.xscale('log')\n",
    "#plt.yscale('log')\n",
    "#plt.show()"
   ]
  },
  {
   "cell_type": "code",
   "execution_count": 120,
   "metadata": {
    "collapsed": false
   },
   "outputs": [
    {
     "data": {
      "text/html": [
       "<iframe id=\"igraph\" scrolling=\"no\" style=\"border:none;\" seamless=\"seamless\" src=\"https://plot.ly/~sengiley88/606.embed\" height=\"525px\" width=\"100%\"></iframe>"
      ],
      "text/plain": [
       "<plotly.tools.PlotlyDisplay object>"
      ]
     },
     "execution_count": 120,
     "metadata": {},
     "output_type": "execute_result"
    }
   ],
   "source": [
    "# tangent vectors plot\n",
    "tangent_plot = []\n",
    "\n",
    "for i, _ in enumerate(neigborhoods_arr[0][0]):\n",
    "    if (i > 500): break # remove!\n",
    "    \n",
    "    for e, eigenvector in enumerate(H_X_arr[0][0][i].T):\n",
    "        \n",
    "        tangent_vector = [[points_arr[0][0][i][0], points_arr[0][0][i][0] + eigenvector[0]],\n",
    "                          [points_arr[0][0][i][1], points_arr[0][0][i][1] + eigenvector[1]],\n",
    "                          [points_arr[0][0][i][2], points_arr[0][0][i][2] + eigenvector[2]]]\n",
    "\n",
    "        if (e==0):\n",
    "            tangent_plot.append(go.Scatter3d(x=tangent_vector[0], y=tangent_vector[1], z=tangent_vector[2],\n",
    "                                            line=line_marker_red, mode=\"lines\", opacity=0.5, hoverinfo=\"skip\"))\n",
    "        if (e==1):\n",
    "            tangent_plot.append(go.Scatter3d(x=tangent_vector[0], y=tangent_vector[1], z=tangent_vector[2],\n",
    "                                            line=line_marker_grey, mode=\"lines\", opacity=0.5, hoverinfo=\"skip\"))\n",
    "\n",
    "        #print(tangent_vector)\n",
    "        #print(\"\\r\")\n",
    "            \n",
    "tangent_plot.append(go.Scatter3d(x=y_arr[0][0], y=x_arr[0][0], z=z_arr[0][0], marker=marker, mode=\"markers\"))\n",
    "\n",
    "for i, j, k in zip(xx, yy, zz):\n",
    "    tangent_plot.append(go.Scatter3d(x=i, y=j, z=k, line=line_marker_blue, mode=\"lines\", opacity=0.5, hoverinfo=\"skip\"))\n",
    "            \n",
    "scene = dict(\n",
    "    camera = dict(\n",
    "        up=dict(x=0, y=0, z=1),\n",
    "        center=dict(x=0, y=0, z=-0.1),\n",
    "        eye=dict(x=0.65, y=0.8, z=0.9)\n",
    "    )\n",
    ")\n",
    "            \n",
    "layout = go.Layout(\n",
    "    title='Aligned tangent spaces',\n",
    "    showlegend=False,\n",
    "    scene=scene\n",
    ")\n",
    "fig = go.Figure(data=tangent_plot, layout=layout)\n",
    "py.iplot(fig)"
   ]
  },
  {
   "cell_type": "code",
   "execution_count": null,
   "metadata": {
    "collapsed": true
   },
   "outputs": [],
   "source": []
  }
 ],
 "metadata": {
  "anaconda-cloud": {},
  "kernelspec": {
   "display_name": "Python [conda env:py2]",
   "language": "python",
   "name": "conda-env-py2-py"
  },
  "language_info": {
   "codemirror_mode": {
    "name": "ipython",
    "version": 2
   },
   "file_extension": ".py",
   "mimetype": "text/x-python",
   "name": "python",
   "nbconvert_exporter": "python",
   "pygments_lexer": "ipython2",
   "version": "2.7.13"
  }
 },
 "nbformat": 4,
 "nbformat_minor": 1
}
